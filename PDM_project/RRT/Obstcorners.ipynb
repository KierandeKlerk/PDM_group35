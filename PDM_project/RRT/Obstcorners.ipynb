{
 "cells": [
  {
   "cell_type": "code",
   "execution_count": 76,
   "metadata": {},
   "outputs": [
    {
     "name": "stdout",
     "output_type": "stream",
     "text": [
      "[[0. 0. 0. ... 0. 0. 0.]\n",
      " [0. 0. 0. ... 0. 0. 0.]\n",
      " [0. 0. 0. ... 0. 0. 0.]\n",
      " ...\n",
      " [0. 0. 0. ... 0. 0. 0.]\n",
      " [0. 0. 0. ... 0. 0. 0.]\n",
      " [0. 0. 0. ... 0. 0. 0.]]\n"
     ]
    }
   ],
   "source": [
    "import numpy as np\n",
    "import matplotlib.pyplot as plt\n",
    "from matplotlib.patches import Rectangle, Circle\n",
    "occupancy_grid = np.load(\"occupancy_grid.npy\")\n",
    "xlength = occupancy_grid.shape[0]\n",
    "ylength = occupancy_grid.shape[1]\n",
    "grid_nowalls = np.delete(occupancy_grid, [0, 1, xlength-1, xlength-2], 0)\n",
    "grid_nowalls = np.delete(grid_nowalls, [0, 1, ylength-1, ylength-2], 1)\n",
    "\n",
    "print(grid_nowalls)\n"
   ]
  },
  {
   "cell_type": "code",
   "execution_count": 111,
   "metadata": {},
   "outputs": [
    {
     "name": "stdout",
     "output_type": "stream",
     "text": [
      "added\n",
      "[ 2 10  2 11]\n",
      "[ 2 10  2 11]\n",
      "2\n"
     ]
    }
   ],
   "source": [
    "grid = occupancy_grid\n",
    "upside = []\n",
    "downside = []\n",
    "for y in range(2, grid.shape[1]-2):\n",
    "    for x in range(2, grid.shape[0]-2):\n",
    "        if grid[x, y] == 1 and (grid[x, y+1] == 0 or y == grid.shape[1]-1):\n",
    "            #print(\"found right side of obstacle\")\n",
    "            upside.append((x, y))\n",
    "        if grid[x, y] == 1 and (grid[x, y-1] == 0 or y == 1):\n",
    "            downside.append((x, y))\n",
    "\n",
    "x1 = downside[0][0]\n",
    "y1 = downside[0][1]\n",
    "x2 = upside[0][0]\n",
    "y2 = upside[0][1]\n",
    "obstacles = [np.array([x1, y1, x2, y2])]\n",
    "for i in range(1):\n",
    "    linked = False\n",
    "    x1 = downside[i][0]\n",
    "    y1 = downside[i][1]\n",
    "    x2 = upside[i][0]\n",
    "    y2 = upside[i][1]\n",
    "    i = 0\n",
    "    print(x1)\n",
    "    while linked == False and i < (len(obstacles)):\n",
    "        if obstacles[i][2] == x1 - 1 and obstacles[i][3] == y2:\n",
    "            obstacles[i][2] = x2\n",
    "            obstacles[i][3] = y2 \n",
    "            linked = True\n",
    "            print(\"linked\")\n",
    "        else:\n",
    "            obstacles.append(np.array([x1, y1, x2, y2]))\n",
    "            linked = True\n",
    "            print(\"added\")\n",
    "        i += 1\n",
    "\n",
    "print(obstacles[0])\n",
    "print(obstacles[1])\n",
    "print(len(obstacles))\n",
    "\n"
   ]
  },
  {
   "cell_type": "code",
   "execution_count": 109,
   "metadata": {},
   "outputs": [
    {
     "name": "stdout",
     "output_type": "stream",
     "text": [
      "[(2, 11), (3, 11), (4, 11), (5, 11), (6, 11), (7, 11), (8, 11), (9, 11), (10, 11), (11, 11), (12, 11), (13, 11), (14, 11), (15, 11), (16, 11), (17, 11), (18, 11), (19, 33), (7, 46), (8, 46), (9, 46), (10, 46), (11, 46), (12, 46), (13, 46), (14, 46), (15, 46), (16, 46), (17, 46), (18, 46), (19, 46), (20, 46), (21, 46), (22, 46), (23, 46), (24, 46)]\n",
      "[(2, 10), (3, 10), (4, 10), (5, 10), (6, 10), (7, 10), (8, 10), (9, 10), (10, 10), (11, 10), (12, 10), (13, 10), (14, 10), (15, 10), (16, 10), (17, 10), (18, 10), (19, 10), (7, 23), (8, 45), (9, 45), (10, 45), (11, 45), (12, 45), (13, 45), (14, 45), (15, 45), (16, 45), (17, 45), (18, 45), (19, 45), (20, 45), (21, 45), (22, 45), (23, 45), (24, 45)]\n"
     ]
    },
    {
     "data": {
      "image/png": "[encoded data removed]",
      "text/plain": [
       "<Figure size 640x480 with 1 Axes>"
      ]
     },
     "metadata": {},
     "output_type": "display_data"
    }
   ],
   "source": [
    "fig, ax = plt.subplots(1, 1)\n",
    "for i in range(len(upside)):\n",
    "    ax.scatter(upside[i][0], upside[i][1], color = \"#FF0000\", s = 0.5)\n",
    "for i in range(len(downside)):\n",
    "    ax.scatter(downside[i][0], downside[i][1], color = \"#00FF00\", s = 0.5)\n",
    "\n",
    "for i in range(len(obstacles)):\n",
    "    ax.add_patch(Rectangle((obstacles[i][0], obstacles[i][1]), (obstacles[i][2] - obstacles[i][0]), (obstacles[i][3] - obstacles[i][1]), color = '#454545'))\n",
    "plt.xlim(0, xlength)\n",
    "plt.ylim(0, ylength)\n",
    "\n",
    "\n",
    "print(upside)\n",
    "print(downside)"
   ]
  },
  {
   "cell_type": "code",
   "execution_count": null,
   "metadata": {},
   "outputs": [],
   "source": []
  }
 ],
 "metadata": {
  "kernelspec": {
   "display_name": "drones",
   "language": "python",
   "name": "python3"
  },
  "language_info": {
   "codemirror_mode": {
    "name": "ipython",
    "version": 3
   },
   "file_extension": ".py",
   "mimetype": "text/x-python",
   "name": "python",
   "nbconvert_exporter": "python",
   "pygments_lexer": "ipython3",
   "version": "3.8.15"
  },
  "orig_nbformat": 4,
  "vscode": {
   "interpreter": {
    "hash": "e8c98b32492273a3306d00f538a144d2f8ac416ef62f030323ba0807711bc096"
   }
  }
 },
 "nbformat": 4,
 "nbformat_minor": 2
}
