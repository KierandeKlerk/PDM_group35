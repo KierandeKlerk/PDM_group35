{
 "cells": [
  {
   "cell_type": "code",
   "execution_count": 78,
   "metadata": {},
   "outputs": [],
   "source": [
    "import numpy as np\n",
    "import matplotlib.pyplot as plt\n",
    "from matplotlib.patches import Rectangle, Circle\n",
    "occupancy_grid = np.load(\"occupancy_grid.npy\")\n"
   ]
  },
  {
   "cell_type": "code",
   "execution_count": 79,
   "metadata": {},
   "outputs": [],
   "source": [
    "grid = occupancy_grid\n",
    "upperbound = []\n",
    "lowerbound = []\n",
    "for x in range(2, grid.shape[0]-2):\n",
    "    for y in range(2, grid.shape[1]-2):\n",
    "        if grid[x, y] == 1 and (grid[x, y+1] == 0 or y == grid.shape[1]-1):\n",
    "            upperbound.append((x, y))\n",
    "        if grid[x, y] == 1 and (grid[x, y-1] == 0 or y == 1):\n",
    "            lowerbound.append((x, y))\n",
    "\n",
    "obstacles = []\n",
    "for i in range(len(lowerbound)):\n",
    "    linked = False\n",
    "    x1 = lowerbound[i][0]\n",
    "    y1 = lowerbound[i][1]\n",
    "    x2 = upperbound[i][0]\n",
    "    y2 = upperbound[i][1]\n",
    "    i = 0\n",
    "    nobst = len(obstacles)\n",
    "    while linked == False and i < nobst:\n",
    "        if obstacles[i][2] == (x1 - 1) and obstacles[i][2] == (x2 - 1) and obstacles[i][1] == y1 and obstacles[i][3] == y2:\n",
    "            obstacles[i][2] = x2\n",
    "            obstacles[i][3] = y2 \n",
    "            linked = True\n",
    "        i += 1\n",
    "    if linked == False:\n",
    "        obstacles.append(np.array([x1, y1, x2, y2]))\n"
   ]
  },
  {
   "cell_type": "code",
   "execution_count": 80,
   "metadata": {},
   "outputs": [
    {
     "name": "stdout",
     "output_type": "stream",
     "text": [
      "[array([ 2, 10, 18, 11]), array([ 7, 23,  7, 46]), array([ 8, 45, 24, 46]), array([19, 10, 19, 33])]\n"
     ]
    },
    {
     "data": {
      "image/png": "[encoded data removed]",
      "text/plain": [
       "<Figure size 640x480 with 1 Axes>"
      ]
     },
     "metadata": {},
     "output_type": "display_data"
    }
   ],
   "source": [
    "fig, ax = plt.subplots(1, 1)\n",
    "\n",
    "##Plot obstacles\n",
    "for i in range(len(obstacles)):\n",
    "   ax.add_patch(Rectangle((obstacles[i][0], obstacles[i][1]), (obstacles[i][2] - obstacles[i][0]), (obstacles[i][3] - obstacles[i][1]), color = '#454545'))\n",
    "\n",
    "##Plot obstacle corners\n",
    "for i in range(len(obstacles)):\n",
    "   ax.scatter((obstacles[i][0], obstacles[i][2]), (obstacles[i][1], obstacles[i][3]), s = 9)\n",
    "\n",
    "##Plot upper and lower bounds\n",
    "# for i in range(len(upperbound)):\n",
    "#     ax.scatter(upperbound[i][0], upperbound[i][1], color = \"#FF0000\", s = 0.5)\n",
    "# for i in range(len(lowerbound)):\n",
    "#     ax.scatter(lowerbound[i][0], lowerbound[i][1], color = \"#00FF00\", s = 0.5)\n",
    "\n",
    "plt.xlim(0, xlength)\n",
    "plt.ylim(0, ylength)\n",
    "print(obstacles)"
   ]
  },
  {
   "cell_type": "code",
   "execution_count": null,
   "metadata": {},
   "outputs": [],
   "source": []
  }
 ],
 "metadata": {
  "kernelspec": {
   "display_name": "drones",
   "language": "python",
   "name": "python3"
  },
  "language_info": {
   "codemirror_mode": {
    "name": "ipython",
    "version": 3
   },
   "file_extension": ".py",
   "mimetype": "text/x-python",
   "name": "python",
   "nbconvert_exporter": "python",
   "pygments_lexer": "ipython3",
   "version": "3.8.15 (default, Nov 24 2022, 15:19:38) \n[GCC 11.2.0]"
  },
  "orig_nbformat": 4,
  "vscode": {
   "interpreter": {
    "hash": "5100af8344b3e040f815ab1c259d334e8b3dd236d4c0d07826afe82cac3fe350"
   }
  }
 },
 "nbformat": 4,
 "nbformat_minor": 2
}
